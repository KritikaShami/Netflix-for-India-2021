{
  "nbformat": 4,
  "nbformat_minor": 0,
  "metadata": {
    "kernelspec": {
      "language": "python",
      "display_name": "Python 3",
      "name": "python3"
    },
    "language_info": {
      "name": "python",
      "version": "3.7.10",
      "mimetype": "text/x-python",
      "codemirror_mode": {
        "name": "ipython",
        "version": 3
      },
      "pygments_lexer": "ipython3",
      "nbconvert_exporter": "python",
      "file_extension": ".py"
    },
    "colab": {
      "name": "netflix-for-india.ipynb",
      "provenance": []
    }
  },
  "cells": [
    {
      "cell_type": "code",
      "metadata": {
        "_uuid": "8f2839f25d086af736a60e9eeb907d3b93b6e0e5",
        "_cell_guid": "b1076dfc-b9ad-4769-8c92-a6c4dae69d19",
        "execution": {
          "iopub.status.busy": "2021-10-14T18:18:20.298611Z",
          "iopub.execute_input": "2021-10-14T18:18:20.298936Z",
          "iopub.status.idle": "2021-10-14T18:18:20.332776Z",
          "shell.execute_reply.started": "2021-10-14T18:18:20.298853Z",
          "shell.execute_reply": "2021-10-14T18:18:20.331846Z"
        },
        "trusted": true,
        "id": "hyX90xHGOe51"
      },
      "source": [
        "# This Python 3 environment comes with many helpful analytics libraries installed\n",
        "# It is defined by the kaggle/python Docker image: https://github.com/kaggle/docker-python\n",
        "# For example, here's several helpful packages to load\n",
        "\n",
        "import numpy as np # linear algebra\n",
        "import pandas as pd # data processing, CSV file I/O (e.g. pd.read_csv)\n",
        "\n",
        "# Input data files are available in the read-only \"../input/\" directory\n",
        "# For example, running this (by clicking run or pressing Shift+Enter) will list all files under the input directory\n",
        "\n",
        "import os\n",
        "for dirname, _, filenames in os.walk('/kaggle/input'):\n",
        "    for filename in filenames:\n",
        "        print(os.path.join(dirname, filename))\n",
        "\n",
        "# You can write up to 20GB to the current directory (/kaggle/working/) that gets preserved as output when you create a version using \"Save & Run All\" \n",
        "# You can also write temporary files to /kaggle/temp/, but they won't be saved outside of the current session"
      ],
      "execution_count": 4,
      "outputs": []
    },
    {
      "cell_type": "code",
      "metadata": {
        "execution": {
          "iopub.status.busy": "2021-10-14T18:20:10.467211Z",
          "iopub.execute_input": "2021-10-14T18:20:10.467469Z",
          "iopub.status.idle": "2021-10-14T18:20:10.642507Z",
          "shell.execute_reply.started": "2021-10-14T18:20:10.467441Z",
          "shell.execute_reply": "2021-10-14T18:20:10.641701Z"
        },
        "trusted": true,
        "colab": {
          "base_uri": "https://localhost:8080/",
          "height": 708
        },
        "id": "EtdkrkjVOe55",
        "outputId": "9414d29e-44cb-4a32-9570-788ebf435fd0"
      },
      "source": [
        "import pandas as pd\n",
        "netflix_data = pd.read_csv('netflix_titles.csv')\n",
        "netflix_data.head(10)"
      ],
      "execution_count": 5,
      "outputs": [
        {
          "output_type": "execute_result",
          "data": {
            "text/html": [
              "<div>\n",
              "<style scoped>\n",
              "    .dataframe tbody tr th:only-of-type {\n",
              "        vertical-align: middle;\n",
              "    }\n",
              "\n",
              "    .dataframe tbody tr th {\n",
              "        vertical-align: top;\n",
              "    }\n",
              "\n",
              "    .dataframe thead th {\n",
              "        text-align: right;\n",
              "    }\n",
              "</style>\n",
              "<table border=\"1\" class=\"dataframe\">\n",
              "  <thead>\n",
              "    <tr style=\"text-align: right;\">\n",
              "      <th></th>\n",
              "      <th>show_id</th>\n",
              "      <th>type</th>\n",
              "      <th>title</th>\n",
              "      <th>director</th>\n",
              "      <th>cast</th>\n",
              "      <th>country</th>\n",
              "      <th>date_added</th>\n",
              "      <th>release_year</th>\n",
              "      <th>rating</th>\n",
              "      <th>duration</th>\n",
              "      <th>listed_in</th>\n",
              "      <th>description</th>\n",
              "    </tr>\n",
              "  </thead>\n",
              "  <tbody>\n",
              "    <tr>\n",
              "      <th>0</th>\n",
              "      <td>s1</td>\n",
              "      <td>Movie</td>\n",
              "      <td>Dick Johnson Is Dead</td>\n",
              "      <td>Kirsten Johnson</td>\n",
              "      <td>NaN</td>\n",
              "      <td>United States</td>\n",
              "      <td>September 25, 2021</td>\n",
              "      <td>2020</td>\n",
              "      <td>PG-13</td>\n",
              "      <td>90 min</td>\n",
              "      <td>Documentaries</td>\n",
              "      <td>As her father nears the end of his life, filmm...</td>\n",
              "    </tr>\n",
              "    <tr>\n",
              "      <th>1</th>\n",
              "      <td>s2</td>\n",
              "      <td>TV Show</td>\n",
              "      <td>Blood &amp; Water</td>\n",
              "      <td>NaN</td>\n",
              "      <td>Ama Qamata, Khosi Ngema, Gail Mabalane, Thaban...</td>\n",
              "      <td>South Africa</td>\n",
              "      <td>September 24, 2021</td>\n",
              "      <td>2021</td>\n",
              "      <td>TV-MA</td>\n",
              "      <td>2 Seasons</td>\n",
              "      <td>International TV Shows, TV Dramas, TV Mysteries</td>\n",
              "      <td>After crossing paths at a party, a Cape Town t...</td>\n",
              "    </tr>\n",
              "    <tr>\n",
              "      <th>2</th>\n",
              "      <td>s3</td>\n",
              "      <td>TV Show</td>\n",
              "      <td>Ganglands</td>\n",
              "      <td>Julien Leclercq</td>\n",
              "      <td>Sami Bouajila, Tracy Gotoas, Samuel Jouy, Nabi...</td>\n",
              "      <td>NaN</td>\n",
              "      <td>September 24, 2021</td>\n",
              "      <td>2021</td>\n",
              "      <td>TV-MA</td>\n",
              "      <td>1 Season</td>\n",
              "      <td>Crime TV Shows, International TV Shows, TV Act...</td>\n",
              "      <td>To protect his family from a powerful drug lor...</td>\n",
              "    </tr>\n",
              "    <tr>\n",
              "      <th>3</th>\n",
              "      <td>s4</td>\n",
              "      <td>TV Show</td>\n",
              "      <td>Jailbirds New Orleans</td>\n",
              "      <td>NaN</td>\n",
              "      <td>NaN</td>\n",
              "      <td>NaN</td>\n",
              "      <td>September 24, 2021</td>\n",
              "      <td>2021</td>\n",
              "      <td>TV-MA</td>\n",
              "      <td>1 Season</td>\n",
              "      <td>Docuseries, Reality TV</td>\n",
              "      <td>Feuds, flirtations and toilet talk go down amo...</td>\n",
              "    </tr>\n",
              "    <tr>\n",
              "      <th>4</th>\n",
              "      <td>s5</td>\n",
              "      <td>TV Show</td>\n",
              "      <td>Kota Factory</td>\n",
              "      <td>NaN</td>\n",
              "      <td>Mayur More, Jitendra Kumar, Ranjan Raj, Alam K...</td>\n",
              "      <td>India</td>\n",
              "      <td>September 24, 2021</td>\n",
              "      <td>2021</td>\n",
              "      <td>TV-MA</td>\n",
              "      <td>2 Seasons</td>\n",
              "      <td>International TV Shows, Romantic TV Shows, TV ...</td>\n",
              "      <td>In a city of coaching centers known to train I...</td>\n",
              "    </tr>\n",
              "    <tr>\n",
              "      <th>5</th>\n",
              "      <td>s6</td>\n",
              "      <td>TV Show</td>\n",
              "      <td>Midnight Mass</td>\n",
              "      <td>Mike Flanagan</td>\n",
              "      <td>Kate Siegel, Zach Gilford, Hamish Linklater, H...</td>\n",
              "      <td>NaN</td>\n",
              "      <td>September 24, 2021</td>\n",
              "      <td>2021</td>\n",
              "      <td>TV-MA</td>\n",
              "      <td>1 Season</td>\n",
              "      <td>TV Dramas, TV Horror, TV Mysteries</td>\n",
              "      <td>The arrival of a charismatic young priest brin...</td>\n",
              "    </tr>\n",
              "    <tr>\n",
              "      <th>6</th>\n",
              "      <td>s7</td>\n",
              "      <td>Movie</td>\n",
              "      <td>My Little Pony: A New Generation</td>\n",
              "      <td>Robert Cullen, José Luis Ucha</td>\n",
              "      <td>Vanessa Hudgens, Kimiko Glenn, James Marsden, ...</td>\n",
              "      <td>NaN</td>\n",
              "      <td>September 24, 2021</td>\n",
              "      <td>2021</td>\n",
              "      <td>PG</td>\n",
              "      <td>91 min</td>\n",
              "      <td>Children &amp; Family Movies</td>\n",
              "      <td>Equestria's divided. But a bright-eyed hero be...</td>\n",
              "    </tr>\n",
              "    <tr>\n",
              "      <th>7</th>\n",
              "      <td>s8</td>\n",
              "      <td>Movie</td>\n",
              "      <td>Sankofa</td>\n",
              "      <td>Haile Gerima</td>\n",
              "      <td>Kofi Ghanaba, Oyafunmike Ogunlano, Alexandra D...</td>\n",
              "      <td>United States, Ghana, Burkina Faso, United Kin...</td>\n",
              "      <td>September 24, 2021</td>\n",
              "      <td>1993</td>\n",
              "      <td>TV-MA</td>\n",
              "      <td>125 min</td>\n",
              "      <td>Dramas, Independent Movies, International Movies</td>\n",
              "      <td>On a photo shoot in Ghana, an American model s...</td>\n",
              "    </tr>\n",
              "    <tr>\n",
              "      <th>8</th>\n",
              "      <td>s9</td>\n",
              "      <td>TV Show</td>\n",
              "      <td>The Great British Baking Show</td>\n",
              "      <td>Andy Devonshire</td>\n",
              "      <td>Mel Giedroyc, Sue Perkins, Mary Berry, Paul Ho...</td>\n",
              "      <td>United Kingdom</td>\n",
              "      <td>September 24, 2021</td>\n",
              "      <td>2021</td>\n",
              "      <td>TV-14</td>\n",
              "      <td>9 Seasons</td>\n",
              "      <td>British TV Shows, Reality TV</td>\n",
              "      <td>A talented batch of amateur bakers face off in...</td>\n",
              "    </tr>\n",
              "    <tr>\n",
              "      <th>9</th>\n",
              "      <td>s10</td>\n",
              "      <td>Movie</td>\n",
              "      <td>The Starling</td>\n",
              "      <td>Theodore Melfi</td>\n",
              "      <td>Melissa McCarthy, Chris O'Dowd, Kevin Kline, T...</td>\n",
              "      <td>United States</td>\n",
              "      <td>September 24, 2021</td>\n",
              "      <td>2021</td>\n",
              "      <td>PG-13</td>\n",
              "      <td>104 min</td>\n",
              "      <td>Comedies, Dramas</td>\n",
              "      <td>A woman adjusting to life after a loss contend...</td>\n",
              "    </tr>\n",
              "  </tbody>\n",
              "</table>\n",
              "</div>"
            ],
            "text/plain": [
              "  show_id  ...                                        description\n",
              "0      s1  ...  As her father nears the end of his life, filmm...\n",
              "1      s2  ...  After crossing paths at a party, a Cape Town t...\n",
              "2      s3  ...  To protect his family from a powerful drug lor...\n",
              "3      s4  ...  Feuds, flirtations and toilet talk go down amo...\n",
              "4      s5  ...  In a city of coaching centers known to train I...\n",
              "5      s6  ...  The arrival of a charismatic young priest brin...\n",
              "6      s7  ...  Equestria's divided. But a bright-eyed hero be...\n",
              "7      s8  ...  On a photo shoot in Ghana, an American model s...\n",
              "8      s9  ...  A talented batch of amateur bakers face off in...\n",
              "9     s10  ...  A woman adjusting to life after a loss contend...\n",
              "\n",
              "[10 rows x 12 columns]"
            ]
          },
          "metadata": {},
          "execution_count": 5
        }
      ]
    },
    {
      "cell_type": "code",
      "metadata": {
        "execution": {
          "iopub.status.busy": "2021-10-14T18:20:46.468596Z",
          "iopub.execute_input": "2021-10-14T18:20:46.468920Z",
          "iopub.status.idle": "2021-10-14T18:20:46.504501Z",
          "shell.execute_reply.started": "2021-10-14T18:20:46.468885Z",
          "shell.execute_reply": "2021-10-14T18:20:46.503845Z"
        },
        "trusted": true,
        "colab": {
          "base_uri": "https://localhost:8080/"
        },
        "id": "wretuuXEOe56",
        "outputId": "ba580022-3c0e-483c-8233-f34aaf2a41fa"
      },
      "source": [
        "netflix_data.info()"
      ],
      "execution_count": 6,
      "outputs": [
        {
          "output_type": "stream",
          "name": "stdout",
          "text": [
            "<class 'pandas.core.frame.DataFrame'>\n",
            "RangeIndex: 8807 entries, 0 to 8806\n",
            "Data columns (total 12 columns):\n",
            " #   Column        Non-Null Count  Dtype \n",
            "---  ------        --------------  ----- \n",
            " 0   show_id       8807 non-null   object\n",
            " 1   type          8807 non-null   object\n",
            " 2   title         8807 non-null   object\n",
            " 3   director      6173 non-null   object\n",
            " 4   cast          7982 non-null   object\n",
            " 5   country       7976 non-null   object\n",
            " 6   date_added    8797 non-null   object\n",
            " 7   release_year  8807 non-null   int64 \n",
            " 8   rating        8803 non-null   object\n",
            " 9   duration      8804 non-null   object\n",
            " 10  listed_in     8807 non-null   object\n",
            " 11  description   8807 non-null   object\n",
            "dtypes: int64(1), object(11)\n",
            "memory usage: 825.8+ KB\n"
          ]
        }
      ]
    },
    {
      "cell_type": "code",
      "metadata": {
        "execution": {
          "iopub.status.busy": "2021-10-14T18:21:10.617404Z",
          "iopub.execute_input": "2021-10-14T18:21:10.617679Z",
          "iopub.status.idle": "2021-10-14T18:21:10.634631Z",
          "shell.execute_reply.started": "2021-10-14T18:21:10.617650Z",
          "shell.execute_reply": "2021-10-14T18:21:10.633742Z"
        },
        "trusted": true,
        "colab": {
          "base_uri": "https://localhost:8080/",
          "height": 290
        },
        "id": "y3M21BidOe56",
        "outputId": "a970e751-eda9-4bb6-9fc8-7d8e7e7eb15f"
      },
      "source": [
        "netflix_data.describe()"
      ],
      "execution_count": 7,
      "outputs": [
        {
          "output_type": "execute_result",
          "data": {
            "text/html": [
              "<div>\n",
              "<style scoped>\n",
              "    .dataframe tbody tr th:only-of-type {\n",
              "        vertical-align: middle;\n",
              "    }\n",
              "\n",
              "    .dataframe tbody tr th {\n",
              "        vertical-align: top;\n",
              "    }\n",
              "\n",
              "    .dataframe thead th {\n",
              "        text-align: right;\n",
              "    }\n",
              "</style>\n",
              "<table border=\"1\" class=\"dataframe\">\n",
              "  <thead>\n",
              "    <tr style=\"text-align: right;\">\n",
              "      <th></th>\n",
              "      <th>release_year</th>\n",
              "    </tr>\n",
              "  </thead>\n",
              "  <tbody>\n",
              "    <tr>\n",
              "      <th>count</th>\n",
              "      <td>8807.000000</td>\n",
              "    </tr>\n",
              "    <tr>\n",
              "      <th>mean</th>\n",
              "      <td>2014.180198</td>\n",
              "    </tr>\n",
              "    <tr>\n",
              "      <th>std</th>\n",
              "      <td>8.819312</td>\n",
              "    </tr>\n",
              "    <tr>\n",
              "      <th>min</th>\n",
              "      <td>1925.000000</td>\n",
              "    </tr>\n",
              "    <tr>\n",
              "      <th>25%</th>\n",
              "      <td>2013.000000</td>\n",
              "    </tr>\n",
              "    <tr>\n",
              "      <th>50%</th>\n",
              "      <td>2017.000000</td>\n",
              "    </tr>\n",
              "    <tr>\n",
              "      <th>75%</th>\n",
              "      <td>2019.000000</td>\n",
              "    </tr>\n",
              "    <tr>\n",
              "      <th>max</th>\n",
              "      <td>2021.000000</td>\n",
              "    </tr>\n",
              "  </tbody>\n",
              "</table>\n",
              "</div>"
            ],
            "text/plain": [
              "       release_year\n",
              "count   8807.000000\n",
              "mean    2014.180198\n",
              "std        8.819312\n",
              "min     1925.000000\n",
              "25%     2013.000000\n",
              "50%     2017.000000\n",
              "75%     2019.000000\n",
              "max     2021.000000"
            ]
          },
          "metadata": {},
          "execution_count": 7
        }
      ]
    },
    {
      "cell_type": "code",
      "metadata": {
        "execution": {
          "iopub.status.busy": "2021-10-14T18:32:46.891674Z",
          "iopub.execute_input": "2021-10-14T18:32:46.892700Z",
          "iopub.status.idle": "2021-10-14T18:32:46.898217Z",
          "shell.execute_reply.started": "2021-10-14T18:32:46.892652Z",
          "shell.execute_reply": "2021-10-14T18:32:46.897281Z"
        },
        "trusted": true,
        "id": "H8HsSQlHOe56"
      },
      "source": [
        "selected_data = netflix_data[['type','title','country','rating','listed_in']]"
      ],
      "execution_count": 8,
      "outputs": []
    },
    {
      "cell_type": "code",
      "metadata": {
        "execution": {
          "iopub.status.busy": "2021-10-14T18:32:49.450839Z",
          "iopub.execute_input": "2021-10-14T18:32:49.451222Z",
          "iopub.status.idle": "2021-10-14T18:32:49.466292Z",
          "shell.execute_reply.started": "2021-10-14T18:32:49.451097Z",
          "shell.execute_reply": "2021-10-14T18:32:49.464685Z"
        },
        "trusted": true,
        "colab": {
          "base_uri": "https://localhost:8080/",
          "height": 200
        },
        "id": "XfNUdV60Oe57",
        "outputId": "83fa27fc-1eb2-4da0-d2d4-e16122795627"
      },
      "source": [
        "selected_data.head()"
      ],
      "execution_count": 9,
      "outputs": [
        {
          "output_type": "execute_result",
          "data": {
            "text/html": [
              "<div>\n",
              "<style scoped>\n",
              "    .dataframe tbody tr th:only-of-type {\n",
              "        vertical-align: middle;\n",
              "    }\n",
              "\n",
              "    .dataframe tbody tr th {\n",
              "        vertical-align: top;\n",
              "    }\n",
              "\n",
              "    .dataframe thead th {\n",
              "        text-align: right;\n",
              "    }\n",
              "</style>\n",
              "<table border=\"1\" class=\"dataframe\">\n",
              "  <thead>\n",
              "    <tr style=\"text-align: right;\">\n",
              "      <th></th>\n",
              "      <th>type</th>\n",
              "      <th>title</th>\n",
              "      <th>country</th>\n",
              "      <th>rating</th>\n",
              "      <th>listed_in</th>\n",
              "    </tr>\n",
              "  </thead>\n",
              "  <tbody>\n",
              "    <tr>\n",
              "      <th>0</th>\n",
              "      <td>Movie</td>\n",
              "      <td>Dick Johnson Is Dead</td>\n",
              "      <td>United States</td>\n",
              "      <td>PG-13</td>\n",
              "      <td>Documentaries</td>\n",
              "    </tr>\n",
              "    <tr>\n",
              "      <th>1</th>\n",
              "      <td>TV Show</td>\n",
              "      <td>Blood &amp; Water</td>\n",
              "      <td>South Africa</td>\n",
              "      <td>TV-MA</td>\n",
              "      <td>International TV Shows, TV Dramas, TV Mysteries</td>\n",
              "    </tr>\n",
              "    <tr>\n",
              "      <th>2</th>\n",
              "      <td>TV Show</td>\n",
              "      <td>Ganglands</td>\n",
              "      <td>NaN</td>\n",
              "      <td>TV-MA</td>\n",
              "      <td>Crime TV Shows, International TV Shows, TV Act...</td>\n",
              "    </tr>\n",
              "    <tr>\n",
              "      <th>3</th>\n",
              "      <td>TV Show</td>\n",
              "      <td>Jailbirds New Orleans</td>\n",
              "      <td>NaN</td>\n",
              "      <td>TV-MA</td>\n",
              "      <td>Docuseries, Reality TV</td>\n",
              "    </tr>\n",
              "    <tr>\n",
              "      <th>4</th>\n",
              "      <td>TV Show</td>\n",
              "      <td>Kota Factory</td>\n",
              "      <td>India</td>\n",
              "      <td>TV-MA</td>\n",
              "      <td>International TV Shows, Romantic TV Shows, TV ...</td>\n",
              "    </tr>\n",
              "  </tbody>\n",
              "</table>\n",
              "</div>"
            ],
            "text/plain": [
              "      type  ...                                          listed_in\n",
              "0    Movie  ...                                      Documentaries\n",
              "1  TV Show  ...    International TV Shows, TV Dramas, TV Mysteries\n",
              "2  TV Show  ...  Crime TV Shows, International TV Shows, TV Act...\n",
              "3  TV Show  ...                             Docuseries, Reality TV\n",
              "4  TV Show  ...  International TV Shows, Romantic TV Shows, TV ...\n",
              "\n",
              "[5 rows x 5 columns]"
            ]
          },
          "metadata": {},
          "execution_count": 9
        }
      ]
    },
    {
      "cell_type": "code",
      "metadata": {
        "execution": {
          "iopub.status.busy": "2021-10-14T18:36:15.708480Z",
          "iopub.execute_input": "2021-10-14T18:36:15.708819Z",
          "iopub.status.idle": "2021-10-14T18:36:15.725819Z",
          "shell.execute_reply.started": "2021-10-14T18:36:15.708780Z",
          "shell.execute_reply": "2021-10-14T18:36:15.724924Z"
        },
        "trusted": true,
        "colab": {
          "base_uri": "https://localhost:8080/",
          "height": 408
        },
        "id": "WPvolakXOe57",
        "outputId": "58b11ece-e982-44e6-b182-8623f51d2157"
      },
      "source": [
        "selected_data[['type','title','rating']][selected_data['country'] == 'India']"
      ],
      "execution_count": 10,
      "outputs": [
        {
          "output_type": "execute_result",
          "data": {
            "text/html": [
              "<div>\n",
              "<style scoped>\n",
              "    .dataframe tbody tr th:only-of-type {\n",
              "        vertical-align: middle;\n",
              "    }\n",
              "\n",
              "    .dataframe tbody tr th {\n",
              "        vertical-align: top;\n",
              "    }\n",
              "\n",
              "    .dataframe thead th {\n",
              "        text-align: right;\n",
              "    }\n",
              "</style>\n",
              "<table border=\"1\" class=\"dataframe\">\n",
              "  <thead>\n",
              "    <tr style=\"text-align: right;\">\n",
              "      <th></th>\n",
              "      <th>type</th>\n",
              "      <th>title</th>\n",
              "      <th>rating</th>\n",
              "    </tr>\n",
              "  </thead>\n",
              "  <tbody>\n",
              "    <tr>\n",
              "      <th>4</th>\n",
              "      <td>TV Show</td>\n",
              "      <td>Kota Factory</td>\n",
              "      <td>TV-MA</td>\n",
              "    </tr>\n",
              "    <tr>\n",
              "      <th>24</th>\n",
              "      <td>Movie</td>\n",
              "      <td>Jeans</td>\n",
              "      <td>TV-14</td>\n",
              "    </tr>\n",
              "    <tr>\n",
              "      <th>39</th>\n",
              "      <td>TV Show</td>\n",
              "      <td>Chhota Bheem</td>\n",
              "      <td>TV-Y7</td>\n",
              "    </tr>\n",
              "    <tr>\n",
              "      <th>50</th>\n",
              "      <td>TV Show</td>\n",
              "      <td>Dharmakshetra</td>\n",
              "      <td>TV-PG</td>\n",
              "    </tr>\n",
              "    <tr>\n",
              "      <th>66</th>\n",
              "      <td>TV Show</td>\n",
              "      <td>Raja Rasoi Aur Anya Kahaniyan</td>\n",
              "      <td>TV-G</td>\n",
              "    </tr>\n",
              "    <tr>\n",
              "      <th>...</th>\n",
              "      <td>...</td>\n",
              "      <td>...</td>\n",
              "      <td>...</td>\n",
              "    </tr>\n",
              "    <tr>\n",
              "      <th>8773</th>\n",
              "      <td>Movie</td>\n",
              "      <td>Yanda Kartavya Aahe</td>\n",
              "      <td>TV-PG</td>\n",
              "    </tr>\n",
              "    <tr>\n",
              "      <th>8775</th>\n",
              "      <td>TV Show</td>\n",
              "      <td>Yeh Meri Family</td>\n",
              "      <td>TV-PG</td>\n",
              "    </tr>\n",
              "    <tr>\n",
              "      <th>8798</th>\n",
              "      <td>Movie</td>\n",
              "      <td>Zed Plus</td>\n",
              "      <td>TV-MA</td>\n",
              "    </tr>\n",
              "    <tr>\n",
              "      <th>8799</th>\n",
              "      <td>Movie</td>\n",
              "      <td>Zenda</td>\n",
              "      <td>TV-14</td>\n",
              "    </tr>\n",
              "    <tr>\n",
              "      <th>8806</th>\n",
              "      <td>Movie</td>\n",
              "      <td>Zubaan</td>\n",
              "      <td>TV-14</td>\n",
              "    </tr>\n",
              "  </tbody>\n",
              "</table>\n",
              "<p>972 rows × 3 columns</p>\n",
              "</div>"
            ],
            "text/plain": [
              "         type                          title rating\n",
              "4     TV Show                   Kota Factory  TV-MA\n",
              "24      Movie                          Jeans  TV-14\n",
              "39    TV Show                   Chhota Bheem  TV-Y7\n",
              "50    TV Show                  Dharmakshetra  TV-PG\n",
              "66    TV Show  Raja Rasoi Aur Anya Kahaniyan   TV-G\n",
              "...       ...                            ...    ...\n",
              "8773    Movie            Yanda Kartavya Aahe  TV-PG\n",
              "8775  TV Show                Yeh Meri Family  TV-PG\n",
              "8798    Movie                       Zed Plus  TV-MA\n",
              "8799    Movie                          Zenda  TV-14\n",
              "8806    Movie                         Zubaan  TV-14\n",
              "\n",
              "[972 rows x 3 columns]"
            ]
          },
          "metadata": {},
          "execution_count": 10
        }
      ]
    },
    {
      "cell_type": "code",
      "metadata": {
        "execution": {
          "iopub.status.busy": "2021-10-14T19:04:30.069283Z",
          "iopub.execute_input": "2021-10-14T19:04:30.069580Z",
          "iopub.status.idle": "2021-10-14T19:04:30.182247Z",
          "shell.execute_reply.started": "2021-10-14T19:04:30.069550Z",
          "shell.execute_reply": "2021-10-14T19:04:30.181310Z"
        },
        "trusted": true,
        "colab": {
          "base_uri": "https://localhost:8080/",
          "height": 295
        },
        "id": "Q_4rHIhzOe57",
        "outputId": "afa49b08-cba5-43dd-9f50-109460dc601f"
      },
      "source": [
        "import matplotlib.pyplot as plt\n",
        "x = []\n",
        "y = []\n",
        "# while selected_data['country']=='India':\n",
        "#     x.append[1]\n",
        "#     y.append[0]\n",
        "for attribut in selected_data:\n",
        "#     if selected_data['country']==\"India\":\n",
        "    x.append(attribut[0])\n",
        "    y.append(attribut[3])\n",
        "\n",
        "plt.bar(x,y, width = 0.72, label = \"Rating\", color=\"orange\")\n",
        "plt.xlabel('type')\n",
        "plt.ylabel('rating')\n",
        "plt.title('Rating')\n",
        "plt.legend()\n",
        "\n",
        "plt.show()"
      ],
      "execution_count": 11,
      "outputs": [
        {
          "output_type": "display_data",
          "data": {
            "image/png": "[encoded data removed]",
            "text/plain": [
              "<Figure size 432x288 with 1 Axes>"
            ]
          },
          "metadata": {
            "needs_background": "light"
          }
        }
      ]
    },
    {
      "cell_type": "code",
      "metadata": {
        "execution": {
          "iopub.status.busy": "2021-10-14T19:12:29.993083Z",
          "iopub.execute_input": "2021-10-14T19:12:29.993362Z",
          "iopub.status.idle": "2021-10-14T19:12:31.276837Z",
          "shell.execute_reply.started": "2021-10-14T19:12:29.993333Z",
          "shell.execute_reply": "2021-10-14T19:12:31.275521Z"
        },
        "trusted": true,
        "colab": {
          "base_uri": "https://localhost:8080/",
          "height": 567
        },
        "id": "NCRw67Y5Oe58",
        "outputId": "4c5c2dbe-1902-45eb-c262-778209802f63"
      },
      "source": [
        "import seaborn as sns\n",
        "\n",
        "plt.figure(figsize=(9,9))\n",
        "\n",
        "x= selected_data.type.value_counts()\n",
        "sns.countplot(x= \"type\",data= selected_data)"
      ],
      "execution_count": 12,
      "outputs": [
        {
          "output_type": "execute_result",
          "data": {
            "text/plain": [
              "<matplotlib.axes._subplots.AxesSubplot at 0x7f625baf6610>"
            ]
          },
          "metadata": {},
          "execution_count": 12
        },
        {
          "output_type": "display_data",
          "data": {
            "image/png": "[encoded data removed]",
            "text/plain": [
              "<Figure size 648x648 with 1 Axes>"
            ]
          },
          "metadata": {
            "needs_background": "light"
          }
        }
      ]
    },
    {
      "cell_type": "code",
      "metadata": {
        "execution": {
          "iopub.status.busy": "2021-10-14T19:18:03.292721Z",
          "iopub.execute_input": "2021-10-14T19:18:03.293572Z",
          "iopub.status.idle": "2021-10-14T19:18:03.307545Z",
          "shell.execute_reply.started": "2021-10-14T19:18:03.293531Z",
          "shell.execute_reply": "2021-10-14T19:18:03.306558Z"
        },
        "trusted": true,
        "colab": {
          "base_uri": "https://localhost:8080/"
        },
        "id": "tvmvHiABOe58",
        "outputId": "b0987622-6a0c-4163-c10b-c233a5f4431a"
      },
      "source": [
        "myCountry = selected_data[['type','title','rating']][selected_data['country'] == 'India']\n",
        "print(myCountry)"
      ],
      "execution_count": 13,
      "outputs": [
        {
          "output_type": "stream",
          "name": "stdout",
          "text": [
            "         type                          title rating\n",
            "4     TV Show                   Kota Factory  TV-MA\n",
            "24      Movie                          Jeans  TV-14\n",
            "39    TV Show                   Chhota Bheem  TV-Y7\n",
            "50    TV Show                  Dharmakshetra  TV-PG\n",
            "66    TV Show  Raja Rasoi Aur Anya Kahaniyan   TV-G\n",
            "...       ...                            ...    ...\n",
            "8773    Movie            Yanda Kartavya Aahe  TV-PG\n",
            "8775  TV Show                Yeh Meri Family  TV-PG\n",
            "8798    Movie                       Zed Plus  TV-MA\n",
            "8799    Movie                          Zenda  TV-14\n",
            "8806    Movie                         Zubaan  TV-14\n",
            "\n",
            "[972 rows x 3 columns]\n"
          ]
        }
      ]
    },
    {
      "cell_type": "code",
      "metadata": {
        "execution": {
          "iopub.status.busy": "2021-10-14T19:31:36.825180Z",
          "iopub.execute_input": "2021-10-14T19:31:36.826152Z",
          "iopub.status.idle": "2021-10-14T19:31:36.835271Z",
          "shell.execute_reply.started": "2021-10-14T19:31:36.826108Z",
          "shell.execute_reply": "2021-10-14T19:31:36.834650Z"
        },
        "trusted": true,
        "colab": {
          "base_uri": "https://localhost:8080/"
        },
        "id": "9AX_Y7ujOe59",
        "outputId": "7e2d7cc1-776d-4d29-81de-ec9da801dc12"
      },
      "source": [
        "highs = myCountry[['title','rating']][myCountry['rating'] == 'TV-MA']\n",
        "print(highs)"
      ],
      "execution_count": 14,
      "outputs": [
        {
          "output_type": "stream",
          "name": "stdout",
          "text": [
            "                          title rating\n",
            "4                  Kota Factory  TV-MA\n",
            "202           Kyaa Kool Hai Hum  TV-MA\n",
            "203        Kyaa Kool Hain Hum 3  TV-MA\n",
            "204    Kyaa Super Kool Hain Hum  TV-MA\n",
            "206   LSD: Love, Sex Aur Dhokha  TV-MA\n",
            "...                         ...    ...\n",
            "8688                    Waiting  TV-MA\n",
            "8713          Welcome 2 Karachi  TV-MA\n",
            "8762            Wrong Side Raju  TV-MA\n",
            "8769     Y.M.I.: Yeh Mera India  TV-MA\n",
            "8798                   Zed Plus  TV-MA\n",
            "\n",
            "[248 rows x 2 columns]\n"
          ]
        }
      ]
    },
    {
      "cell_type": "code",
      "metadata": {
        "execution": {
          "iopub.status.busy": "2021-10-14T19:50:50.025487Z",
          "iopub.execute_input": "2021-10-14T19:50:50.025957Z",
          "iopub.status.idle": "2021-10-14T19:50:50.280954Z",
          "shell.execute_reply.started": "2021-10-14T19:50:50.025925Z",
          "shell.execute_reply": "2021-10-14T19:50:50.280335Z"
        },
        "trusted": true,
        "colab": {
          "base_uri": "https://localhost:8080/",
          "height": 420
        },
        "id": "dQBWKV6WOe59",
        "outputId": "8cc46aec-bdd3-4d59-a390-67c5349acc5c"
      },
      "source": [
        "plt.figure(figsize=(16,6))\n",
        "plt.title(\"Rating for India\")\n",
        "sns.countplot(x= \"rating\",data= myCountry)"
      ],
      "execution_count": 15,
      "outputs": [
        {
          "output_type": "execute_result",
          "data": {
            "text/plain": [
              "<matplotlib.axes._subplots.AxesSubplot at 0x7f624d3d3610>"
            ]
          },
          "metadata": {},
          "execution_count": 15
        },
        {
          "output_type": "display_data",
          "data": {
            "image/png": "[encoded data removed]",
            "text/plain": [
              "<Figure size 1152x432 with 1 Axes>"
            ]
          },
          "metadata": {
            "needs_background": "light"
          }
        }
      ]
    },
    {
      "cell_type": "markdown",
      "metadata": {
        "id": "lq2sAXvgOe59"
      },
      "source": [
        "**Selecting all Indian shows and movies released in the year-2021**"
      ]
    },
    {
      "cell_type": "code",
      "metadata": {
        "execution": {
          "iopub.status.busy": "2021-10-14T19:42:36.727673Z",
          "iopub.execute_input": "2021-10-14T19:42:36.728335Z",
          "iopub.status.idle": "2021-10-14T19:42:36.745115Z",
          "shell.execute_reply.started": "2021-10-14T19:42:36.728295Z",
          "shell.execute_reply": "2021-10-14T19:42:36.743973Z"
        },
        "trusted": true,
        "colab": {
          "base_uri": "https://localhost:8080/"
        },
        "id": "wiHoAuxROe5_",
        "outputId": "5925297a-fa49-4659-9d20-0177f7821886"
      },
      "source": [
        "newYear = netflix_data[['type','title','country','release_year','rating']][netflix_data['release_year']== 2021][netflix_data['country'] == 'India']\n",
        "print(newYear)"
      ],
      "execution_count": 16,
      "outputs": [
        {
          "output_type": "stream",
          "name": "stdout",
          "text": [
            "         type                               title country  release_year rating\n",
            "4     TV Show                        Kota Factory   India          2021  TV-MA\n",
            "39    TV Show                        Chhota Bheem   India          2021  TV-Y7\n",
            "190     Movie                          Thimmarusu   India          2021  TV-14\n",
            "297   TV Show                            Navarasa   India          2021  TV-MA\n",
            "551     Movie                     Haseen Dillruba   India          2021  TV-MA\n",
            "735     Movie                             Sarbath   India          2021  TV-PG\n",
            "850     Movie                            99 Songs   India          2021  TV-14\n",
            "871     Movie                  Sardar Ka Grandson   India          2021  TV-14\n",
            "873     Movie                               Ahaan   India          2021  TV-MA\n",
            "876   TV Show                        Alma Matters   India          2021  TV-MA\n",
            "877     Movie                        Cinema Bandi   India          2021  TV-MA\n",
            "903     Movie                             Nayattu   India          2021  TV-MA\n",
            "909     Movie                           Milestone   India          2021  TV-14\n",
            "918   TV Show                      Lava Ka Dhaava   India          2021  TV-PG\n",
            "959     Movie                        The Disciple   India          2021  TV-MA\n",
            "998     Movie                Searching For Sheela   India          2021  TV-14\n",
            "1023    Movie                     Ajeeb Daastaans   India          2021  TV-MA\n",
            "1037    Movie                  Tuesdays & Fridays   India          2021  TV-14\n",
            "1087    Movie                               Roohi   India          2021  TV-14\n",
            "1093  TV Show                         The Big Day   India          2021  TV-14\n",
            "1098    Movie                             Mandela   India          2021  TV-14\n",
            "1108    Movie                                Irul   India          2021  TV-MA\n",
            "1165    Movie                            Pagglait   India          2021  TV-PG\n",
            "1202    Movie                         C/O Kaadhal   India          2021  TV-14\n",
            "1227  TV Show                       Bombay Begums   India          2021  TV-MA\n",
            "1230    Movie                               Aelay   India          2021  TV-14\n",
            "1265    Movie               The Girl on the Train   India          2021  TV-MA\n",
            "1281    Movie                                 Red   India          2021  TV-14\n",
            "1293  TV Show                       Pitta Kathalu   India          2021  TV-MA\n",
            "1410    Movie       Tribhanga - Tedhi Medhi Crazy   India          2021  TV-MA\n",
            "1429  TV Show  Mighty Little Bheem: Kite Festival   India          2021   TV-Y\n"
          ]
        },
        {
          "output_type": "stream",
          "name": "stderr",
          "text": [
            "/usr/local/lib/python3.7/dist-packages/ipykernel_launcher.py:1: UserWarning: Boolean Series key will be reindexed to match DataFrame index.\n",
            "  \"\"\"Entry point for launching an IPython kernel.\n"
          ]
        }
      ]
    },
    {
      "cell_type": "markdown",
      "metadata": {
        "id": "k_m4h5enOe5_"
      },
      "source": [
        "# **Rating in India for year-2021**"
      ]
    },
    {
      "cell_type": "code",
      "metadata": {
        "execution": {
          "iopub.status.busy": "2021-10-14T19:49:55.135079Z",
          "iopub.execute_input": "2021-10-14T19:49:55.135493Z",
          "iopub.status.idle": "2021-10-14T19:49:55.260008Z",
          "shell.execute_reply.started": "2021-10-14T19:49:55.135461Z",
          "shell.execute_reply": "2021-10-14T19:49:55.259358Z"
        },
        "trusted": true,
        "colab": {
          "base_uri": "https://localhost:8080/",
          "height": 591
        },
        "id": "Inc-kxrAOe6A",
        "outputId": "ee12dfb8-cc06-473a-cb9d-cedc6e3737e8"
      },
      "source": [
        "x= newYear.rating.value_counts()\n",
        "plt.figure(figsize=(10,10))\n",
        "labels= list(x.index)\n",
        "plt.pie(x.values,labels= labels,autopct= \"%1.1f%%\")\n",
        "plt.title(\"Rating in India for year-2021\")\n",
        "plt.show()"
      ],
      "execution_count": 17,
      "outputs": [
        {
          "output_type": "display_data",
          "data": {
            "image/png": "[encoded data removed]",
            "text/plain": [
              "<Figure size 720x720 with 1 Axes>"
            ]
          },
          "metadata": {}
        }
      ]
    },
    {
      "cell_type": "code",
      "metadata": {
        "execution": {
          "iopub.status.busy": "2021-10-14T19:45:03.063535Z",
          "iopub.execute_input": "2021-10-14T19:45:03.063858Z",
          "iopub.status.idle": "2021-10-14T19:45:03.073810Z",
          "shell.execute_reply.started": "2021-10-14T19:45:03.063822Z",
          "shell.execute_reply": "2021-10-14T19:45:03.072858Z"
        },
        "trusted": true,
        "colab": {
          "base_uri": "https://localhost:8080/"
        },
        "id": "qxp7aw60Oe6C",
        "outputId": "76f882db-4121-48bb-d6a6-3bf7bef68448"
      },
      "source": [
        "best1 = newYear[['type','title','rating']][newYear['rating']=='TV-MA']\n",
        "print(best1)"
      ],
      "execution_count": 18,
      "outputs": [
        {
          "output_type": "stream",
          "name": "stdout",
          "text": [
            "         type                          title rating\n",
            "4     TV Show                   Kota Factory  TV-MA\n",
            "297   TV Show                       Navarasa  TV-MA\n",
            "551     Movie                Haseen Dillruba  TV-MA\n",
            "873     Movie                          Ahaan  TV-MA\n",
            "876   TV Show                   Alma Matters  TV-MA\n",
            "877     Movie                   Cinema Bandi  TV-MA\n",
            "903     Movie                        Nayattu  TV-MA\n",
            "959     Movie                   The Disciple  TV-MA\n",
            "1023    Movie                Ajeeb Daastaans  TV-MA\n",
            "1108    Movie                           Irul  TV-MA\n",
            "1227  TV Show                  Bombay Begums  TV-MA\n",
            "1265    Movie          The Girl on the Train  TV-MA\n",
            "1293  TV Show                  Pitta Kathalu  TV-MA\n",
            "1410    Movie  Tribhanga - Tedhi Medhi Crazy  TV-MA\n"
          ]
        }
      ]
    },
    {
      "cell_type": "markdown",
      "metadata": {
        "id": "d-1PpFMrOe6C"
      },
      "source": [
        "# **What is most viewed in India from Tv show and Movie in the year 2021**"
      ]
    },
    {
      "cell_type": "code",
      "metadata": {
        "execution": {
          "iopub.status.busy": "2021-10-14T19:54:50.045067Z",
          "iopub.execute_input": "2021-10-14T19:54:50.045362Z",
          "iopub.status.idle": "2021-10-14T19:54:50.247040Z",
          "shell.execute_reply.started": "2021-10-14T19:54:50.045331Z",
          "shell.execute_reply": "2021-10-14T19:54:50.246227Z"
        },
        "trusted": true,
        "colab": {
          "base_uri": "https://localhost:8080/",
          "height": 420
        },
        "id": "xpXEooocOe6C",
        "outputId": "4edd692d-142d-47a3-e01f-b552546700b0"
      },
      "source": [
        "plt.figure(figsize=(16,6))\n",
        "plt.title(\"Netflix Tv show vs Movie for India-2021\")\n",
        "sns.countplot(x= \"type\",data= best1)"
      ],
      "execution_count": 19,
      "outputs": [
        {
          "output_type": "execute_result",
          "data": {
            "text/plain": [
              "<matplotlib.axes._subplots.AxesSubplot at 0x7f624c8474d0>"
            ]
          },
          "metadata": {},
          "execution_count": 19
        },
        {
          "output_type": "display_data",
          "data": {
            "image/png": "[encoded data removed]",
            "text/plain": [
              "<Figure size 1152x432 with 1 Axes>"
            ]
          },
          "metadata": {
            "needs_background": "light"
          }
        }
      ]
    },
    {
      "cell_type": "markdown",
      "metadata": {
        "id": "F6mlz0vcOe6D"
      },
      "source": [
        "# P.S We all love netflix"
      ]
    }
  ]
}